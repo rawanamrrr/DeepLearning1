{
  "nbformat": 4,
  "nbformat_minor": 0,
  "metadata": {
    "colab": {
      "provenance": [],
      "authorship_tag": "ABX9TyON4RUHDoxEVxN0iVTbTW6D",
      "include_colab_link": true
    },
    "kernelspec": {
      "name": "python3",
      "display_name": "Python 3"
    },
    "language_info": {
      "name": "python"
    }
  },
  "cells": [
    {
      "cell_type": "markdown",
      "metadata": {
        "id": "view-in-github",
        "colab_type": "text"
      },
      "source": [
        "<a href=\"https://colab.research.google.com/github/rawanamrrr/DeepLearning1/blob/main/LSTM.ipynb\" target=\"_parent\"><img src=\"https://colab.research.google.com/assets/colab-badge.svg\" alt=\"Open In Colab\"/></a>"
      ]
    },
    {
      "cell_type": "code",
      "execution_count": 11,
      "metadata": {
        "id": "J894PbjS2Cg1"
      },
      "outputs": [],
      "source": [
        "import numpy as np\n",
        "import matplotlib.pyplot as plt\n",
        "\n",
        "\n",
        "def sigmoid(x):\n",
        "    return 1 / (1 + np.exp(-x))\n",
        "\n",
        "def tanh(x):\n",
        "    return np.tanh(x)"
      ]
    },
    {
      "cell_type": "code",
      "source": [
        "def lstm_cell(x, h_prev, C_prev, Wf, Wi, Wc, Wo, Whf, Whi, Whc, Who, bf, bi, bc, bo):\n",
        "    ft = sigmoid(Wf * x + Whf * h_prev + bf)\n",
        "    it = sigmoid(Wi * x + Whi * h_prev + bi)\n",
        "    Ct_tilde = tanh(Wc * x + Whc * h_prev + bc)\n",
        "    Ct = ft * C_prev + it * Ct_tilde\n",
        "    ot = sigmoid(Wo * x + Who * h_prev + bo)\n",
        "    ht = ot * tanh(Ct)\n",
        "\n",
        "    return ht, Ct\n",
        "\n",
        "Wf, Wi, Wc, Wo = 0.5, 0.6, 0.7, 0.8\n",
        "Whf, Whi, Whc, Who = 0.1, 0.2, 0.3, 0.4\n",
        "bf, bi, bc, bo = 0, 0, 0, 0\n",
        "Wy = 0.9\n",
        "by = 0\n",
        "\n",
        "h_prev, C_prev = 0.0, 0.0\n",
        "\n",
        "X = [1, 2, 3]\n",
        "y_target = 4\n",
        "\n",
        "\n",
        "learning_rate = 0.01\n",
        "epochs = 1000\n",
        "\n",
        "loss_history = []\n"
      ],
      "metadata": {
        "id": "EW3GcSmD2gNf"
      },
      "execution_count": 16,
      "outputs": []
    },
    {
      "cell_type": "code",
      "source": [
        "for epoch in range(epochs):\n",
        "    h_prev, C_prev = 0.0, 0.0\n",
        "\n",
        "    for t in range(len(X)):\n",
        "        x = X[t]\n",
        "        h_prev, C_prev = lstm_cell(x, h_prev, C_prev, Wf, Wi, Wc, Wo, Whf, Whi, Whc, Who, bf, bi, bc, bo)\n",
        "\n",
        "    y_pred = Wy * h_prev + by\n",
        "\n",
        "    error = (y_pred - y_target) ** 2\n",
        "    loss_history.append(error)\n",
        "\n",
        "    dWy = 2 * (y_pred - y_target) * h_prev\n",
        "    dby = 2 * (y_pred - y_target)\n",
        "\n",
        "    Wy -= learning_rate * dWy\n",
        "    by -= learning_rate * dby"
      ],
      "metadata": {
        "id": "4v7Jrxwt2haY"
      },
      "execution_count": 20,
      "outputs": []
    },
    {
      "cell_type": "code",
      "source": [
        "if (epoch + 1) % 100 == 0:\n",
        "       print(f\"Epoch {epoch + 1}: Predicted Value = {y_pred:.4f}, Loss = {error:.4f}\")\n",
        "\n",
        "print(\"\\nTraining Complete!\")\n",
        "print(f\"Final Predicted Next Value: {y_pred:.4f}\")"
      ],
      "metadata": {
        "colab": {
          "base_uri": "https://localhost:8080/"
        },
        "id": "VPqizvUI2lVp",
        "outputId": "f38334b2-f3a4-45ca-afd5-a2be78b502ac"
      },
      "execution_count": 21,
      "outputs": [
        {
          "output_type": "stream",
          "name": "stdout",
          "text": [
            "Epoch 1000: Predicted Value = 4.0000, Loss = 0.0000\n",
            "\n",
            "Training Complete!\n",
            "Final Predicted Next Value: 4.0000\n"
          ]
        }
      ]
    }
  ]
}